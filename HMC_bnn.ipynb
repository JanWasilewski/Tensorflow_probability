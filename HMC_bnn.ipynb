{
 "cells": [
  {
   "cell_type": "code",
   "execution_count": 2,
   "metadata": {},
   "outputs": [],
   "source": [
    "import tensorflow as tf\n",
    "import tensorflow_probability as tfp\n",
    "import matplotlib.pyplot as plt\n",
    "import numpy as np\n",
    "\n",
    "tfd = tfp.distributions"
   ]
  },
  {
   "cell_type": "code",
   "execution_count": 122,
   "metadata": {},
   "outputs": [],
   "source": [
    "# Global variables, hyperparameters (alpha = inverse aplha)\n",
    "N_data = 30\n",
    "alpha = 1\n",
    "beta = 0.01"
   ]
  },
  {
   "cell_type": "code",
   "execution_count": 107,
   "metadata": {},
   "outputs": [],
   "source": [
    "# Toy data\n",
    "X = tf.transpose(tf.constant([[0.02, 0.12, 0.145, 0.1654, 0.143,\n",
    "                               0.1123, 0.21, 0.145, 0.167, 0.1456,\n",
    "                               0.186, 0.145, 0.134, 0.81, 0.82, 0.832,\n",
    "                               0.811, 0.842, 0.8234, 0.885, 0.9, 0.91,\n",
    "                               0.93, 0.933, 0.03, 0.98, 0.81234, 0.79,\n",
    "                               0.099, 0.0988]]))\n",
    "Y = 0.5 * tf.math.sin(3*X) + tf.random.normal((N_data, 1), 0, 0.01)"
   ]
  },
  {
   "cell_type": "code",
   "execution_count": 108,
   "metadata": {},
   "outputs": [],
   "source": [
    "# Model architecture\n",
    "model = tf.keras.models.Sequential([\n",
    "        tf.keras.layers.Dense(128, activation='tanh', name='dense_2', input_shape = (1,)),\n",
    "        tf.keras.layers.Dense(64, activation='tanh', name='dense_3'),\n",
    "        tf.keras.layers.Dense(1, activation='linear', name='dense_6')\n",
    "        ])"
   ]
  },
  {
   "cell_type": "code",
   "execution_count": 109,
   "metadata": {},
   "outputs": [],
   "source": [
    "def adjust_shapes(weights, weights_shapes):\n",
    "    adjusted_weights = []\n",
    "    for shape_ in weights_shapes:\n",
    "        shape_size = np.prod(shape_)\n",
    "        weights_tmp = weights[:shape_size]\n",
    "        weights = weights[shape_size:]\n",
    "        adjusted_weights.append(np.reshape(weights_tmp, shape_))\n",
    "    return adjusted_weights"
   ]
  },
  {
   "cell_type": "code",
   "execution_count": 110,
   "metadata": {},
   "outputs": [],
   "source": [
    "def log_join_probability(X, Y, weights):\n",
    "    k = np.sum([np.prod(v.get_shape().as_list()) for v in model.trainable_weights])\n",
    "    weights_shapes = [v.get_shape() for v in model.trainable_weights]\n",
    "    prior = tfd.MultivariateNormalDiag(scale_diag = alpha * tf.ones(k))\n",
    "    model.set_weights(adjust_shapes(tf.reshape(weights, (k,)), weights_shapes))\n",
    "    likelihood = tfd.Normal(model.predict(X), scale = beta)\n",
    "    return prior.log_prob(weights) + sum(likelihood.log_prob(Y))"
   ]
  },
  {
   "cell_type": "code",
   "execution_count": 152,
   "metadata": {},
   "outputs": [],
   "source": [
    "unnormalized_posterior_log_prob = lambda *args: log_join_probability(X, Y, *args)\n",
    "k = np.sum([np.prod(v.get_shape().as_list()) for v in model.trainable_weights])\n",
    "\n",
    "hmc = tfp.mcmc.NoUTurnSampler(\n",
    "    target_log_prob_fn = unnormalized_posterior_log_prob,\n",
    "    step_size = 0.1 * tf.ones(shape = (1,k)),\n",
    "    max_tree_depth=15, max_energy_diff=2000.0,\n",
    "    unrolled_leapfrog_steps=5, parallel_iterations=10, seed=123, name=None\n",
    ")\n"
   ]
  },
  {
   "cell_type": "code",
   "execution_count": 153,
   "metadata": {},
   "outputs": [],
   "source": [
    "samples = tfp.mcmc.sample_chain(\n",
    "    num_results = int(20000),\n",
    "    num_burnin_steps = int(2000),\n",
    "    current_state = tf.random.normal(stddev = 0.15, shape = (1,k)),\n",
    "    kernel = hmc,\n",
    "    trace_fn = None)\n",
    "\n",
    "x_plot = np.arange(-0.3, 1.3, 0.01)\n",
    "x_plot = [x for x in x_plot]\n",
    "\n",
    "preds = []\n",
    "for i in range(20000):\n",
    "    model.set_weights(adjust_shapes(tf.reshape(samples[i], (k,)), weights_shapes))\n",
    "    preds.append(model.predict(x_plot))\n",
    "\n",
    "mmean = []\n",
    "ssd = []\n",
    "for i in range(160):\n",
    "    mmean.append(np.mean(np.transpose(preds)[0][i]))\n",
    "    ssd.append(np.std(np.transpose(preds)[0][i]))"
   ]
  },
  {
   "cell_type": "code",
   "execution_count": 156,
   "metadata": {},
   "outputs": [],
   "source": [
    "preds =[]\n",
    "for i in range(20000):\n",
    "    model.set_weights(adjust_shapes(tf.reshape(samples[i], (k,)), weights_shapes))\n",
    "    preds.append(model.predict(x_plot))\n",
    "\n",
    "mmean = []\n",
    "ssd = []\n",
    "for i in range(160):\n",
    "    mmean.append(np.mean(np.transpose(preds)[0][i]))\n",
    "    ssd.append(np.std(np.transpose(preds)[0][i]))"
   ]
  },
  {
   "cell_type": "code",
   "execution_count": 157,
   "metadata": {},
   "outputs": [
    {
     "data": {
      "text/plain": [
       "[<matplotlib.lines.Line2D at 0x7f9225dfa750>]"
      ]
     },
     "execution_count": 157,
     "metadata": {},
     "output_type": "execute_result"
    },
    {
     "data": {
      "image/png": "[encoded data removed]",
      "text/plain": [
       "<Figure size 432x288 with 1 Axes>"
      ]
     },
     "metadata": {
      "needs_background": "light"
     },
     "output_type": "display_data"
    }
   ],
   "source": [
    "fig, ax = plt.subplots()\n",
    "ax.plot(x_plot, [0.5 * np.sin(3 * i) for i in x_plot], color = '#f1716d', linewidth = 2.0, label = 'original')\n",
    "ax.scatter(X,Y)\n",
    "ax.plot(x_plot, mmean, color = \"#2ea8b4\", linewidth = 2.0, label = 'prediction')\n",
    "ax.plot(x_plot, np.subtract(mmean, ssd),\n",
    "         color = '#2ea8b4', linestyle = 'dashed', linewidth = 0.5, label = 'uncertainty')\n",
    "ax.plot(x_plot,  np.add(mmean, ssd),\n",
    "         color = '#2ea8b4', linestyle = 'dashed', linewidth = 0.5)\n"
   ]
  },
  {
   "cell_type": "code",
   "execution_count": 116,
   "metadata": {},
   "outputs": [
    {
     "data": {
      "image/png": "[encoded data removed]",
      "text/plain": [
       "<Figure size 432x288 with 1 Axes>"
      ]
     },
     "metadata": {
      "needs_background": "light"
     },
     "output_type": "display_data"
    }
   ],
   "source": [
    "x_plot = np.arange(-0.3, 1.3, 0.01)\n",
    "x_plot = [x for x in x_plot]\n",
    "\n",
    "fig, ax = plt.subplots()\n",
    "ax.plot(x_plot, [0.5 * np.sin(3 * i) for i in x_plot], color = '#f1716d', linewidth = 2.0, label = 'original')\n",
    "\n",
    "for i in range(2000):\n",
    "    if i % 100:\n",
    "        model.set_weights(adjust_shapes(tf.reshape(samples[i], (k,)), weights_shapes))\n",
    "        ax.plot(x_plot, model.predict(x_plot))\n",
    "        ax.scatter(X,Y)"
   ]
  },
  {
   "cell_type": "code",
   "execution_count": 99,
   "metadata": {},
   "outputs": [
    {
     "data": {
      "text/plain": [
       "<tf.Tensor: shape=(1, 8577), dtype=bool, numpy=array([[False, False, False, ..., False, False, False]])>"
      ]
     },
     "execution_count": 99,
     "metadata": {},
     "output_type": "execute_result"
    }
   ],
   "source": [
    "samples[0] == samples[4]"
   ]
  },
  {
   "cell_type": "code",
   "execution_count": 136,
   "metadata": {},
   "outputs": [
    {
     "data": {
      "text/plain": [
       "array([[1.1935934e+10]], dtype=float32)"
      ]
     },
     "execution_count": 136,
     "metadata": {},
     "output_type": "execute_result"
    }
   ],
   "source": [
    "model.predict(X[[1]])"
   ]
  },
  {
   "cell_type": "code",
   "execution_count": 31,
   "metadata": {},
   "outputs": [
    {
     "data": {
      "text/plain": [
       "10625"
      ]
     },
     "execution_count": 31,
     "metadata": {},
     "output_type": "execute_result"
    }
   ],
   "source": [
    "weights_shape = [v.shape for v in model.trainable_weights]\n",
    "weights_num = np.sum([np.prod(v.get_shape().as_list()) for v in model.trainable_weights])\n",
    "weights_num"
   ]
  }
 ],
 "metadata": {
  "kernelspec": {
   "display_name": "Python 3",
   "language": "python",
   "name": "python3"
  },
  "language_info": {
   "codemirror_mode": {
    "name": "ipython",
    "version": 3
   },
   "file_extension": ".py",
   "mimetype": "text/x-python",
   "name": "python",
   "nbconvert_exporter": "python",
   "pygments_lexer": "ipython3",
   "version": "3.7.4"
  }
 },
 "nbformat": 4,
 "nbformat_minor": 2
}
